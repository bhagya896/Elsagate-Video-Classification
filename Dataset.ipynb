{
 "cells": [
  {
   "cell_type": "code",
   "execution_count": null,
   "metadata": {},
   "outputs": [],
   "source": [
    "# Data is taken as input and names of all the video files are printed\n",
    "import os\n",
    "xyz=r'C:/Users/Bhagyashree/Desktop/project/kidsguard-dataset/videos'\n",
    "fname = os.listdir(xyz)\n",
    "print(fname)"
   ]
  },
  {
   "cell_type": "code",
   "execution_count": null,
   "metadata": {},
   "outputs": [],
   "source": [
    "# frames are captured from all the videos and saved into different folders according to the name and then according to seconds\n",
    "import cv2\n",
    "import os\n",
    "\n",
    "path='C:/Users/Bhagyashree/Desktop/project/kidsguard-dataset/videos/*'\n",
    "\n",
    "def getFrame(sec):\n",
    "    for entry in fname:\n",
    "        fileArray=entry.split('.')\n",
    "        filename=fileArray[0]\n",
    "        fps=\"framefps\"\n",
    "        temp=r'C:/Users/Bhagyashree/Desktop/project/kidsguard-dataset/video_splits/'+filename\n",
    "        os.makedirs(temp)\n",
    "        vid = r\"C:/Users/Bhagyashree/Desktop/project/kidsguard-dataset/videos/\"+entry\n",
    "        cap=cv2.VideoCapture(vid)\n",
    "        sec=0\n",
    "        cap.set(cv2.CAP_PROP_POS_MSEC,sec*1000)\n",
    "        hasFrames,image = cap.read()\n",
    "        while hasFrames:\n",
    "            i=0\n",
    "            tp=r'C:/Users/Bhagyashree/Desktop/project/kidsguard-dataset/video_splits/'+filename+'/'+fps+ str(sec)\n",
    "            os.makedirs(tp)\n",
    "            while i<3 and hasFrames:\n",
    "                path_var=tp+\"/\"+str(sec)+\" sec.jpg\"\n",
    "                cv2.imwrite(tp+\"/\"+str(sec)+\" sec.jpg\",image)\n",
    "                sec=sec+0.34\n",
    "                sec=round(sec,3)\n",
    "                hasFrames,image = cap.read()\n",
    "                cap.set(cv2.CAP_PROP_POS_MSEC,sec*1000)\n",
    "                i+=1\n",
    "        cap.release()\n",
    "        cv2.destroyAllWindows()\n",
    "\n",
    "getFrame(0)"
   ]
  }
 ],
 "metadata": {
  "kernelspec": {
   "display_name": "Python 3",
   "language": "python",
   "name": "python3"
  },
  "language_info": {
   "codemirror_mode": {
    "name": "ipython",
    "version": 3
   },
   "file_extension": ".py",
   "mimetype": "text/x-python",
   "name": "python",
   "nbconvert_exporter": "python",
   "pygments_lexer": "ipython3",
   "version": "3.7.6"
  }
 },
 "nbformat": 4,
 "nbformat_minor": 4
}
